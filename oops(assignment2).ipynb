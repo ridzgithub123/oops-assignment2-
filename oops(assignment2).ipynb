{
 "cells": [
  {
   "cell_type": "code",
   "execution_count": 2,
   "id": "878e14de-2e46-40b0-b113-7d1c86c08f65",
   "metadata": {},
   "outputs": [],
   "source": [
    "# Q1. What is Abstraction in OOps? Explain with an example.\n",
    " \n",
    " # An abstraction is used to hide the irrelevant data/class in order to reduce the complexity.\n",
    "  # It also enhances the application efficiency.  \n",
    "import abc\n",
    "class polygon:\n",
    "    @abc.abstractmethod\n",
    "    def sides(self):\n",
    "        pass\n",
    "            \n",
    "        "
   ]
  },
  {
   "cell_type": "code",
   "execution_count": 3,
   "id": "cdc13a3b-74e3-42dd-94b8-fc833d93a6ac",
   "metadata": {},
   "outputs": [],
   "source": [
    "class triangle(polygon):\n",
    "    def sides(self):\n",
    "        print(\"Triangle has 3 sides.\")\n",
    "\n",
    "class square(polygon):\n",
    "    def sides(self):\n",
    "        print(\"Square has 4 sides.\")\n",
    "        \n",
    "class hexagon(polygon):\n",
    "    def sides(self):\n",
    "        print(\"hexagon has 6 sides.\")\n",
    "        \n",
    "        \n",
    "\n",
    "     \n",
    "    \n",
    "    "
   ]
  },
  {
   "cell_type": "code",
   "execution_count": 5,
   "id": "5fc5cce8-2ff6-48c7-824c-fe72dbf88590",
   "metadata": {},
   "outputs": [
    {
     "name": "stdout",
     "output_type": "stream",
     "text": [
      "Triangle has 3 sides.\n"
     ]
    }
   ],
   "source": [
    "t=triangle()\n",
    "t.sides()\n"
   ]
  },
  {
   "cell_type": "code",
   "execution_count": 6,
   "id": "61d2202f-9c9b-4f31-bdc7-07f522328956",
   "metadata": {},
   "outputs": [
    {
     "name": "stdout",
     "output_type": "stream",
     "text": [
      "Square has 4 sides.\n"
     ]
    }
   ],
   "source": [
    "s=square()\n",
    "s.sides()"
   ]
  },
  {
   "cell_type": "code",
   "execution_count": 7,
   "id": "f151a6ea-a776-4f23-ac92-d8603b1a7ab5",
   "metadata": {},
   "outputs": [
    {
     "name": "stdout",
     "output_type": "stream",
     "text": [
      "hexagon has 6 sides.\n"
     ]
    }
   ],
   "source": [
    "h=hexagon()\n",
    "h.sides()"
   ]
  },
  {
   "cell_type": "code",
   "execution_count": 8,
   "id": "7f9d24c4-501b-4d9c-a992-1f2cac90ef28",
   "metadata": {},
   "outputs": [
    {
     "data": {
      "text/plain": [
       "'\\n1) Abstraction shows only useful data by providing the most necessary details,\\nwhereas Encapsulation wraps code and data for necessary information.\\n2) Abstraction is focused mainly on what should be done,\\nwhile Encapsulation is focused on how it should be done.\\n3) Abstraction hides complexity by giving you a more abstract picture, \\nwhile Encapsulation hides internal work so that you can change it later.\\n4)Abstraction helps you to partition the program into many independent portions,\\nwhereas Encapsulation is easy to change with new requirements.\\n5) Comparing Encapsulation vs Abstraction, Abstraction solves problems at the design level\\nwhile Encapsulation solves problems at the implementation level.\\n6) Abstraction hides the irrelevant details found in the code, \\nwhereas Encapsulation helps developers to organize the entire code easily.\\n\\n'"
      ]
     },
     "execution_count": 8,
     "metadata": {},
     "output_type": "execute_result"
    }
   ],
   "source": [
    "#Q2. Differentiate between Abstraction and Encapsulation. Explain with an example.\n",
    "'''\n",
    "1) Abstraction shows only useful data by providing the most necessary details,\n",
    "whereas Encapsulation wraps code and data for necessary information.\n",
    "2) Abstraction is focused mainly on what should be done,\n",
    "while Encapsulation is focused on how it should be done.\n",
    "3) Abstraction hides complexity by giving you a more abstract picture, \n",
    "while Encapsulation hides internal work so that you can change it later.\n",
    "4)Abstraction helps you to partition the program into many independent portions,\n",
    "whereas Encapsulation is easy to change with new requirements.\n",
    "5) Comparing Encapsulation vs Abstraction, Abstraction solves problems at the design level\n",
    "while Encapsulation solves problems at the implementation level.\n",
    "6) Abstraction hides the irrelevant details found in the code, \n",
    "whereas Encapsulation helps developers to organize the entire code easily.\n",
    "\n",
    "'''\n"
   ]
  },
  {
   "cell_type": "code",
   "execution_count": 15,
   "id": "7414bfa6-9ab3-49de-9313-1e3c83fb8421",
   "metadata": {},
   "outputs": [
    {
     "name": "stdout",
     "output_type": "stream",
     "text": [
      "driving. maxspeed 200\n",
      "driving. maxspeed 320\n",
      "colour of the car is red\n"
     ]
    }
   ],
   "source": [
    "#example of abstraction and encapsulation\n",
    "import abc\n",
    "class car:\n",
    "    # abstraction as we create only blue print of a class car .\n",
    "    @abc.abstractmethod\n",
    "    def colour(self):\n",
    "        pass \n",
    "    \n",
    "class car1(car):\n",
    "    def colour(self):\n",
    "        print(\"colour of the car is red\")\n",
    "    \n",
    "    #encapulation here we hide these variable from user .\n",
    "    __maxspeed = 0\n",
    "    __name = \"\"\n",
    "    \n",
    "    def __init__(self):\n",
    "        self.__maxspeed = 200\n",
    "        self.__name = \"Supercar\"\n",
    "        \n",
    "   \n",
    "    \n",
    "    def drive(self):\n",
    "        print('driving. maxspeed ' + str(self.__maxspeed))\n",
    "\n",
    "    def setMaxSpeed(self,speed):\n",
    "        self.__maxspeed = speed\n",
    "\n",
    "redcar = car1()\n",
    "redcar.drive()\n",
    "redcar.setMaxSpeed(320)\n",
    "redcar.drive()\n",
    "redcar.colour()"
   ]
  },
  {
   "cell_type": "code",
   "execution_count": null,
   "id": "d15f579c-6de6-42bf-bc8b-99f2f19cca57",
   "metadata": {},
   "outputs": [],
   "source": [
    "#Q3. What is abc module in python? Why is it used?\n",
    "'''\n",
    "The 'abc' module in Python library provides the infrastructure for defining custom abstract base classes.\n",
    "IT IS USED BCZ....\n",
    "Python does not directly support abstract classes, but the abc module allows you to define abstract classes.\n",
    "The module works by marking methods of the base class as abstract using the @absttractmethod decorator.\n",
    "A concrete class which is a sub class of such abstract base class then implements the abstract base by overriding its abstract methods\n",
    "'''"
   ]
  },
  {
   "cell_type": "code",
   "execution_count": null,
   "id": "9a17f5d0-1387-44a7-b92b-f58a4fd5c46d",
   "metadata": {},
   "outputs": [],
   "source": [
    "#Q4. How can we achieve data abstraction?\n",
    "'''\n",
    "Data Abstraction in Python can be achieved through creating abstract classes and inheriting them later.\n",
    "An abstract class is a class that consists of one or more abstract methods, which do not contain their implementation. \n",
    "Abstract classes can be inherited by the subclass, and the abstract method gets its definition in the subclass.\n",
    "Abstraction in Python can also be achieved using classes and header files.\n",
    "'''"
   ]
  },
  {
   "cell_type": "code",
   "execution_count": null,
   "id": "0e2f025a-0a94-4644-be50-44886c4f6e0d",
   "metadata": {},
   "outputs": [],
   "source": [
    "#Q5. Can we create an instance of an abstract class? Explain your answer.\n",
    "'''\n",
    "Abstract classes are classes that we cannot create instances from.\n",
    "We use abc module to define abstract classes.\n",
    "'''\n"
   ]
  }
 ],
 "metadata": {
  "kernelspec": {
   "display_name": "Python 3 (ipykernel)",
   "language": "python",
   "name": "python3"
  },
  "language_info": {
   "codemirror_mode": {
    "name": "ipython",
    "version": 3
   },
   "file_extension": ".py",
   "mimetype": "text/x-python",
   "name": "python",
   "nbconvert_exporter": "python",
   "pygments_lexer": "ipython3",
   "version": "3.10.8"
  }
 },
 "nbformat": 4,
 "nbformat_minor": 5
}
